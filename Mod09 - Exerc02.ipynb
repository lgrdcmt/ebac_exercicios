{
 "cells": [
  {
   "cell_type": "markdown",
   "metadata": {},
   "source": [
    "# Livro para consulta:\n",
    "- https://jakevdp.github.io/PythonDataScienceHandbook/03.08-aggregation-and-grouping.html\n",
    "- https://jakevdp.github.io/PythonDataScienceHandbook/03.09-pivot-tables.html\n",
    "    "
   ]
  },
  {
   "cell_type": "markdown",
   "metadata": {},
   "source": [
    "# 1. Importando bibliotecas <a name=\"import\"></a>\n",
    "\n",
    "<div style=\"text-align: right\"\n",
    "     \n",
    "[Voltar ao índice](#Contents)"
   ]
  },
  {
   "cell_type": "code",
   "execution_count": 1,
   "metadata": {
    "ExecuteTime": {
     "end_time": "2021-06-06T21:12:37.298706Z",
     "start_time": "2021-06-06T21:12:36.656481Z"
    }
   },
   "outputs": [],
   "source": [
    "import numpy as np\n",
    "import pandas as pd\n",
    "import seaborn as sns\n",
    "import matplotlib.pyplot as plt\n",
    "\n",
    "%matplotlib inline"
   ]
  },
  {
   "cell_type": "markdown",
   "metadata": {},
   "source": [
    "# 2. Carregando o dataframe SINASC <a name=\"read\"></a>\n",
    "<div style=\"text-align: right\"\n",
    "     \n",
    "[Voltar ao índice](#Contents)"
   ]
  },
  {
   "cell_type": "code",
   "execution_count": 2,
   "metadata": {
    "ExecuteTime": {
     "end_time": "2021-06-06T21:12:37.762376Z",
     "start_time": "2021-06-06T21:12:37.728383Z"
    },
    "scrolled": true
   },
   "outputs": [
    {
     "data": {
      "text/html": [
       "<div>\n",
       "<style scoped>\n",
       "    .dataframe tbody tr th:only-of-type {\n",
       "        vertical-align: middle;\n",
       "    }\n",
       "\n",
       "    .dataframe tbody tr th {\n",
       "        vertical-align: top;\n",
       "    }\n",
       "\n",
       "    .dataframe thead th {\n",
       "        text-align: right;\n",
       "    }\n",
       "</style>\n",
       "<table border=\"1\" class=\"dataframe\">\n",
       "  <thead>\n",
       "    <tr style=\"text-align: right;\">\n",
       "      <th></th>\n",
       "      <th>ORIGEM</th>\n",
       "      <th>CODESTAB</th>\n",
       "      <th>CODMUNNASC</th>\n",
       "      <th>LOCNASC</th>\n",
       "      <th>IDADEMAE</th>\n",
       "      <th>ESTCIVMAE</th>\n",
       "      <th>ESCMAE</th>\n",
       "      <th>CODOCUPMAE</th>\n",
       "      <th>QTDFILVIVO</th>\n",
       "      <th>QTDFILMORT</th>\n",
       "      <th>...</th>\n",
       "      <th>KOTELCHUCK</th>\n",
       "      <th>CONTADOR</th>\n",
       "      <th>munResStatus</th>\n",
       "      <th>munResTipo</th>\n",
       "      <th>munResNome</th>\n",
       "      <th>munResUf</th>\n",
       "      <th>munResLat</th>\n",
       "      <th>munResLon</th>\n",
       "      <th>munResAlt</th>\n",
       "      <th>munResArea</th>\n",
       "    </tr>\n",
       "  </thead>\n",
       "  <tbody>\n",
       "    <tr>\n",
       "      <th>0</th>\n",
       "      <td>1</td>\n",
       "      <td>2679477.0</td>\n",
       "      <td>110001</td>\n",
       "      <td>1</td>\n",
       "      <td>19</td>\n",
       "      <td>5.0</td>\n",
       "      <td>8 a 11 anos</td>\n",
       "      <td>NaN</td>\n",
       "      <td>0.0</td>\n",
       "      <td>0.0</td>\n",
       "      <td>...</td>\n",
       "      <td>5</td>\n",
       "      <td>1</td>\n",
       "      <td>ATIVO</td>\n",
       "      <td>MUNIC</td>\n",
       "      <td>Alta Floresta D'Oeste</td>\n",
       "      <td>Rondônia</td>\n",
       "      <td>-11.93554</td>\n",
       "      <td>-61.99982</td>\n",
       "      <td>338.0</td>\n",
       "      <td>7067.025</td>\n",
       "    </tr>\n",
       "    <tr>\n",
       "      <th>1</th>\n",
       "      <td>1</td>\n",
       "      <td>2679477.0</td>\n",
       "      <td>110001</td>\n",
       "      <td>1</td>\n",
       "      <td>29</td>\n",
       "      <td>2.0</td>\n",
       "      <td>8 a 11 anos</td>\n",
       "      <td>999992.0</td>\n",
       "      <td>1.0</td>\n",
       "      <td>0.0</td>\n",
       "      <td>...</td>\n",
       "      <td>5</td>\n",
       "      <td>2</td>\n",
       "      <td>ATIVO</td>\n",
       "      <td>MUNIC</td>\n",
       "      <td>Alta Floresta D'Oeste</td>\n",
       "      <td>Rondônia</td>\n",
       "      <td>-11.93554</td>\n",
       "      <td>-61.99982</td>\n",
       "      <td>338.0</td>\n",
       "      <td>7067.025</td>\n",
       "    </tr>\n",
       "    <tr>\n",
       "      <th>2</th>\n",
       "      <td>1</td>\n",
       "      <td>2679477.0</td>\n",
       "      <td>110001</td>\n",
       "      <td>1</td>\n",
       "      <td>37</td>\n",
       "      <td>9.0</td>\n",
       "      <td>8 a 11 anos</td>\n",
       "      <td>513205.0</td>\n",
       "      <td>2.0</td>\n",
       "      <td>0.0</td>\n",
       "      <td>...</td>\n",
       "      <td>5</td>\n",
       "      <td>3</td>\n",
       "      <td>ATIVO</td>\n",
       "      <td>MUNIC</td>\n",
       "      <td>Alta Floresta D'Oeste</td>\n",
       "      <td>Rondônia</td>\n",
       "      <td>-11.93554</td>\n",
       "      <td>-61.99982</td>\n",
       "      <td>338.0</td>\n",
       "      <td>7067.025</td>\n",
       "    </tr>\n",
       "    <tr>\n",
       "      <th>3</th>\n",
       "      <td>1</td>\n",
       "      <td>2516500.0</td>\n",
       "      <td>110001</td>\n",
       "      <td>1</td>\n",
       "      <td>30</td>\n",
       "      <td>5.0</td>\n",
       "      <td>12 anos ou mais</td>\n",
       "      <td>231205.0</td>\n",
       "      <td>0.0</td>\n",
       "      <td>0.0</td>\n",
       "      <td>...</td>\n",
       "      <td>4</td>\n",
       "      <td>4</td>\n",
       "      <td>ATIVO</td>\n",
       "      <td>MUNIC</td>\n",
       "      <td>Alto Alegre dos Parecis</td>\n",
       "      <td>Rondônia</td>\n",
       "      <td>-12.13178</td>\n",
       "      <td>-61.85308</td>\n",
       "      <td>397.0</td>\n",
       "      <td>3958.273</td>\n",
       "    </tr>\n",
       "    <tr>\n",
       "      <th>4</th>\n",
       "      <td>1</td>\n",
       "      <td>2516500.0</td>\n",
       "      <td>110001</td>\n",
       "      <td>1</td>\n",
       "      <td>30</td>\n",
       "      <td>2.0</td>\n",
       "      <td>8 a 11 anos</td>\n",
       "      <td>999992.0</td>\n",
       "      <td>1.0</td>\n",
       "      <td>0.0</td>\n",
       "      <td>...</td>\n",
       "      <td>5</td>\n",
       "      <td>5</td>\n",
       "      <td>ATIVO</td>\n",
       "      <td>MUNIC</td>\n",
       "      <td>Alta Floresta D'Oeste</td>\n",
       "      <td>Rondônia</td>\n",
       "      <td>-11.93554</td>\n",
       "      <td>-61.99982</td>\n",
       "      <td>338.0</td>\n",
       "      <td>7067.025</td>\n",
       "    </tr>\n",
       "  </tbody>\n",
       "</table>\n",
       "<p>5 rows × 69 columns</p>\n",
       "</div>"
      ],
      "text/plain": [
       "   ORIGEM   CODESTAB  CODMUNNASC  LOCNASC  IDADEMAE  ESTCIVMAE  \\\n",
       "0       1  2679477.0      110001        1        19        5.0   \n",
       "1       1  2679477.0      110001        1        29        2.0   \n",
       "2       1  2679477.0      110001        1        37        9.0   \n",
       "3       1  2516500.0      110001        1        30        5.0   \n",
       "4       1  2516500.0      110001        1        30        2.0   \n",
       "\n",
       "            ESCMAE  CODOCUPMAE  QTDFILVIVO  QTDFILMORT  ...  KOTELCHUCK  \\\n",
       "0      8 a 11 anos         NaN         0.0         0.0  ...           5   \n",
       "1      8 a 11 anos    999992.0         1.0         0.0  ...           5   \n",
       "2      8 a 11 anos    513205.0         2.0         0.0  ...           5   \n",
       "3  12 anos ou mais    231205.0         0.0         0.0  ...           4   \n",
       "4      8 a 11 anos    999992.0         1.0         0.0  ...           5   \n",
       "\n",
       "  CONTADOR munResStatus munResTipo               munResNome  munResUf  \\\n",
       "0        1        ATIVO      MUNIC    Alta Floresta D'Oeste  Rondônia   \n",
       "1        2        ATIVO      MUNIC    Alta Floresta D'Oeste  Rondônia   \n",
       "2        3        ATIVO      MUNIC    Alta Floresta D'Oeste  Rondônia   \n",
       "3        4        ATIVO      MUNIC  Alto Alegre dos Parecis  Rondônia   \n",
       "4        5        ATIVO      MUNIC    Alta Floresta D'Oeste  Rondônia   \n",
       "\n",
       "   munResLat munResLon  munResAlt  munResArea  \n",
       "0  -11.93554 -61.99982      338.0    7067.025  \n",
       "1  -11.93554 -61.99982      338.0    7067.025  \n",
       "2  -11.93554 -61.99982      338.0    7067.025  \n",
       "3  -12.13178 -61.85308      397.0    3958.273  \n",
       "4  -11.93554 -61.99982      338.0    7067.025  \n",
       "\n",
       "[5 rows x 69 columns]"
      ]
     },
     "execution_count": 2,
     "metadata": {},
     "output_type": "execute_result"
    }
   ],
   "source": [
    "#sinasc_raw = pd.read_csv('SINASC_RO_2019.csv')\n",
    "sinasc_raw = pd.read_csv('https://raw.githubusercontent.com/lgrdcmt/ebac_modulo5/main/Tarefa1/SINASC_RO_2019.csv')\n",
    "\n",
    "sinasc_raw.head()"
   ]
  },
  {
   "cell_type": "code",
   "execution_count": 3,
   "metadata": {},
   "outputs": [],
   "source": [
    "sinasc2 = sinasc_raw.copy()"
   ]
  },
  {
   "cell_type": "code",
   "execution_count": 4,
   "metadata": {
    "scrolled": true
   },
   "outputs": [
    {
     "name": "stdout",
     "output_type": "stream",
     "text": [
      "<class 'pandas.core.frame.DataFrame'>\n",
      "RangeIndex: 27028 entries, 0 to 27027\n",
      "Data columns (total 54 columns):\n",
      " #   Column      Non-Null Count  Dtype  \n",
      "---  ------      --------------  -----  \n",
      " 0   ORIGEM      27028 non-null  int64  \n",
      " 1   CODESTAB    26913 non-null  float64\n",
      " 2   CODMUNNASC  27028 non-null  int64  \n",
      " 3   LOCNASC     27028 non-null  int64  \n",
      " 4   IDADEMAE    27028 non-null  int64  \n",
      " 5   ESTCIVMAE   26711 non-null  float64\n",
      " 6   CODOCUPMAE  24121 non-null  float64\n",
      " 7   QTDFILVIVO  25455 non-null  float64\n",
      " 8   QTDFILMORT  24930 non-null  float64\n",
      " 9   CODMUNRES   27028 non-null  int64  \n",
      " 10  CONSULTAS   27028 non-null  int64  \n",
      " 11  HORANASC    27007 non-null  float64\n",
      " 12  APGAR1      26932 non-null  float64\n",
      " 13  APGAR5      26925 non-null  float64\n",
      " 14  PESO        27028 non-null  int64  \n",
      " 15  IDANOMAL    26437 non-null  float64\n",
      " 16  NUMEROLOTE  27028 non-null  int64  \n",
      " 17  DIFDATA     27028 non-null  int64  \n",
      " 18  DTRECORIGA  0 non-null      float64\n",
      " 19  NATURALMAE  26730 non-null  float64\n",
      " 20  CODMUNNATU  26730 non-null  float64\n",
      " 21  CODUFNATU   26730 non-null  float64\n",
      " 22  ESCMAE2010  26779 non-null  float64\n",
      " 23  SERIESCMAE  14318 non-null  float64\n",
      " 24  DTNASCMAE   26988 non-null  float64\n",
      " 25  RACACORMAE  26367 non-null  float64\n",
      " 26  QTDGESTANT  25816 non-null  float64\n",
      " 27  QTDPARTNOR  25149 non-null  float64\n",
      " 28  QTDPARTCES  25237 non-null  float64\n",
      " 29  IDADEPAI    7607 non-null   float64\n",
      " 30  DTULTMENST  16956 non-null  float64\n",
      " 31  SEMAGESTAC  25790 non-null  float64\n",
      " 32  TPMETESTIM  25790 non-null  float64\n",
      " 33  CONSPRENAT  26098 non-null  float64\n",
      " 34  MESPRENAT   24161 non-null  float64\n",
      " 35  TPAPRESENT  26763 non-null  float64\n",
      " 36  STTRABPART  26081 non-null  float64\n",
      " 37  STCESPARTO  26281 non-null  float64\n",
      " 38  TPNASCASSI  26967 non-null  float64\n",
      " 39  TPFUNCRESP  26961 non-null  float64\n",
      " 40  TPDOCRESP   27014 non-null  float64\n",
      " 41  DTDECLARAC  26976 non-null  float64\n",
      " 42  ESCMAEAGR1  26779 non-null  float64\n",
      " 43  STDNEPIDEM  27028 non-null  int64  \n",
      " 44  STDNNOVA    27028 non-null  int64  \n",
      " 45  CODPAISRES  27028 non-null  int64  \n",
      " 46  TPROBSON    27028 non-null  int64  \n",
      " 47  PARIDADE    27028 non-null  int64  \n",
      " 48  KOTELCHUCK  27028 non-null  int64  \n",
      " 49  CONTADOR    27028 non-null  int64  \n",
      " 50  munResLat   27027 non-null  float64\n",
      " 51  munResLon   27027 non-null  float64\n",
      " 52  munResAlt   27027 non-null  float64\n",
      " 53  munResArea  27027 non-null  float64\n",
      "dtypes: float64(38), int64(16)\n",
      "memory usage: 11.1 MB\n"
     ]
    }
   ],
   "source": [
    "#sinasc_raw.info()\n",
    "\n",
    "sinasc_raw.select_dtypes(include=['int64','float64']).info()"
   ]
  },
  {
   "cell_type": "code",
   "execution_count": 5,
   "metadata": {},
   "outputs": [
    {
     "data": {
      "text/plain": [
       "0.0     8610\n",
       "1.0     8446\n",
       "2.0     4961\n",
       "3.0     2177\n",
       "4.0      887\n",
       "5.0      359\n",
       "6.0      186\n",
       "7.0      101\n",
       "8.0       41\n",
       "9.0       25\n",
       "10.0      12\n",
       "12.0       3\n",
       "14.0       3\n",
       "11.0       2\n",
       "15.0       1\n",
       "13.0       1\n",
       "52.0       1\n",
       "Name: QTDGESTANT, dtype: int64"
      ]
     },
     "execution_count": 5,
     "metadata": {},
     "output_type": "execute_result"
    }
   ],
   "source": [
    "sinasc2['QTDGESTANT'].value_counts()"
   ]
  },
  {
   "cell_type": "markdown",
   "metadata": {},
   "source": [
    "# Tarefa 2"
   ]
  },
  {
   "cell_type": "markdown",
   "metadata": {},
   "source": [
    "### 1. Crie 2 faixas de Latitude do município (munResLat) sendo uma acima e outra abaixo de -10.5 e aplique o groupby usando essas faixas como chave e realize operações de soma, media, minimo, maximo, mediana, desvio padrao, variancia pra pelo menos 2 variáveis numéricas ainda não utilizadas"
   ]
  },
  {
   "cell_type": "code",
   "execution_count": 6,
   "metadata": {},
   "outputs": [
    {
     "data": {
      "text/plain": [
       "0        (-13.5, -10.5]\n",
       "1        (-13.5, -10.5]\n",
       "2        (-13.5, -10.5]\n",
       "3        (-13.5, -10.5]\n",
       "4        (-13.5, -10.5]\n",
       "              ...      \n",
       "27023    (-13.5, -10.5]\n",
       "27024    (-13.5, -10.5]\n",
       "27025    (-13.5, -10.5]\n",
       "27026    (-13.5, -10.5]\n",
       "27027    (-13.5, -10.5]\n",
       "Name: munResLat, Length: 27028, dtype: category\n",
       "Categories (2, interval[float64, right]): [(-13.5, -10.5] < (-10.5, -8.77]]"
      ]
     },
     "execution_count": 6,
     "metadata": {},
     "output_type": "execute_result"
    }
   ],
   "source": [
    "sinasc2['munResLat'].describe()\n",
    "\n",
    "latitude = pd.cut(sinasc2['munResLat'], [-13.5, -10.5, -8.77])\n",
    "\n",
    "latitude"
   ]
  },
  {
   "cell_type": "code",
   "execution_count": 7,
   "metadata": {},
   "outputs": [
    {
     "data": {
      "text/html": [
       "<div>\n",
       "<style scoped>\n",
       "    .dataframe tbody tr th:only-of-type {\n",
       "        vertical-align: middle;\n",
       "    }\n",
       "\n",
       "    .dataframe tbody tr th {\n",
       "        vertical-align: top;\n",
       "    }\n",
       "\n",
       "    .dataframe thead tr th {\n",
       "        text-align: left;\n",
       "    }\n",
       "\n",
       "    .dataframe thead tr:last-of-type th {\n",
       "        text-align: right;\n",
       "    }\n",
       "</style>\n",
       "<table border=\"1\" class=\"dataframe\">\n",
       "  <thead>\n",
       "    <tr>\n",
       "      <th></th>\n",
       "      <th colspan=\"2\" halign=\"left\">sum</th>\n",
       "      <th colspan=\"2\" halign=\"left\">mean</th>\n",
       "      <th colspan=\"2\" halign=\"left\">min</th>\n",
       "      <th colspan=\"2\" halign=\"left\">max</th>\n",
       "      <th colspan=\"2\" halign=\"left\">median</th>\n",
       "      <th colspan=\"2\" halign=\"left\">std</th>\n",
       "      <th colspan=\"2\" halign=\"left\">var</th>\n",
       "    </tr>\n",
       "    <tr>\n",
       "      <th></th>\n",
       "      <th>CONSPRENAT</th>\n",
       "      <th>QTDGESTANT</th>\n",
       "      <th>CONSPRENAT</th>\n",
       "      <th>QTDGESTANT</th>\n",
       "      <th>CONSPRENAT</th>\n",
       "      <th>QTDGESTANT</th>\n",
       "      <th>CONSPRENAT</th>\n",
       "      <th>QTDGESTANT</th>\n",
       "      <th>CONSPRENAT</th>\n",
       "      <th>QTDGESTANT</th>\n",
       "      <th>CONSPRENAT</th>\n",
       "      <th>QTDGESTANT</th>\n",
       "      <th>CONSPRENAT</th>\n",
       "      <th>QTDGESTANT</th>\n",
       "    </tr>\n",
       "    <tr>\n",
       "      <th>munResLat</th>\n",
       "      <th></th>\n",
       "      <th></th>\n",
       "      <th></th>\n",
       "      <th></th>\n",
       "      <th></th>\n",
       "      <th></th>\n",
       "      <th></th>\n",
       "      <th></th>\n",
       "      <th></th>\n",
       "      <th></th>\n",
       "      <th></th>\n",
       "      <th></th>\n",
       "      <th></th>\n",
       "      <th></th>\n",
       "    </tr>\n",
       "  </thead>\n",
       "  <tbody>\n",
       "    <tr>\n",
       "      <th>(-13.5, -10.5]</th>\n",
       "      <td>110072.0</td>\n",
       "      <td>15301.0</td>\n",
       "      <td>8.591321</td>\n",
       "      <td>1.186032</td>\n",
       "      <td>0.0</td>\n",
       "      <td>0.0</td>\n",
       "      <td>99.0</td>\n",
       "      <td>15.0</td>\n",
       "      <td>8.0</td>\n",
       "      <td>1.0</td>\n",
       "      <td>4.243102</td>\n",
       "      <td>1.304777</td>\n",
       "      <td>18.003915</td>\n",
       "      <td>1.702444</td>\n",
       "    </tr>\n",
       "    <tr>\n",
       "      <th>(-10.5, -8.77]</th>\n",
       "      <td>46951.0</td>\n",
       "      <td>6876.0</td>\n",
       "      <td>8.561451</td>\n",
       "      <td>1.256120</td>\n",
       "      <td>0.0</td>\n",
       "      <td>0.0</td>\n",
       "      <td>99.0</td>\n",
       "      <td>52.0</td>\n",
       "      <td>8.0</td>\n",
       "      <td>1.0</td>\n",
       "      <td>4.697726</td>\n",
       "      <td>1.548115</td>\n",
       "      <td>22.068629</td>\n",
       "      <td>2.396660</td>\n",
       "    </tr>\n",
       "  </tbody>\n",
       "</table>\n",
       "</div>"
      ],
      "text/plain": [
       "                      sum                  mean                   min  \\\n",
       "               CONSPRENAT QTDGESTANT CONSPRENAT QTDGESTANT CONSPRENAT   \n",
       "munResLat                                                               \n",
       "(-13.5, -10.5]   110072.0    15301.0   8.591321   1.186032        0.0   \n",
       "(-10.5, -8.77]    46951.0     6876.0   8.561451   1.256120        0.0   \n",
       "\n",
       "                                 max                median             \\\n",
       "               QTDGESTANT CONSPRENAT QTDGESTANT CONSPRENAT QTDGESTANT   \n",
       "munResLat                                                               \n",
       "(-13.5, -10.5]        0.0       99.0       15.0        8.0        1.0   \n",
       "(-10.5, -8.77]        0.0       99.0       52.0        8.0        1.0   \n",
       "\n",
       "                      std                   var             \n",
       "               CONSPRENAT QTDGESTANT CONSPRENAT QTDGESTANT  \n",
       "munResLat                                                   \n",
       "(-13.5, -10.5]   4.243102   1.304777  18.003915   1.702444  \n",
       "(-10.5, -8.77]   4.697726   1.548115  22.068629   2.396660  "
      ]
     },
     "execution_count": 7,
     "metadata": {},
     "output_type": "execute_result"
    }
   ],
   "source": [
    "# VAMOS USAR O CONSPRENAT e QTDGESTANT\n",
    "\n",
    "sinasc2.pivot_table(values = ['CONSPRENAT', 'QTDGESTANT'], \n",
    "                    index = [latitude],\n",
    "                    aggfunc = [sum, np.mean, min, max, np.median, 'std', 'var']\n",
    "                   )"
   ]
  },
  {
   "cell_type": "markdown",
   "metadata": {},
   "source": [
    "### 2. Crie 2 faixas da área dos municípios (munResArea) sendo uma acima e outra abaixo de 3000 e aplique o groupby usando essas faixas como chave e realize operações de soma, media, minimo, maximo, mediana, desvio padrao, variancia pra pelo menos 2 variáveis numéricas ainda não utilizadas\n"
   ]
  },
  {
   "cell_type": "code",
   "execution_count": 8,
   "metadata": {},
   "outputs": [
    {
     "data": {
      "text/plain": [
       "0        (3000, 34097]\n",
       "1        (3000, 34097]\n",
       "2        (3000, 34097]\n",
       "3        (3000, 34097]\n",
       "4        (3000, 34097]\n",
       "             ...      \n",
       "27023    (3000, 34097]\n",
       "27024    (3000, 34097]\n",
       "27025    (3000, 34097]\n",
       "27026    (3000, 34097]\n",
       "27027      (459, 3000]\n",
       "Name: munResArea, Length: 27028, dtype: category\n",
       "Categories (2, interval[int64, right]): [(459, 3000] < (3000, 34097]]"
      ]
     },
     "execution_count": 8,
     "metadata": {},
     "output_type": "execute_result"
    }
   ],
   "source": [
    "sinasc2['munResArea'].describe()\n",
    "\n",
    "area = pd.cut(sinasc2['munResArea'], [459, 3000, 34097])\n",
    "\n",
    "area"
   ]
  },
  {
   "cell_type": "code",
   "execution_count": 9,
   "metadata": {},
   "outputs": [
    {
     "data": {
      "text/html": [
       "<div>\n",
       "<style scoped>\n",
       "    .dataframe tbody tr th:only-of-type {\n",
       "        vertical-align: middle;\n",
       "    }\n",
       "\n",
       "    .dataframe tbody tr th {\n",
       "        vertical-align: top;\n",
       "    }\n",
       "\n",
       "    .dataframe thead tr th {\n",
       "        text-align: left;\n",
       "    }\n",
       "\n",
       "    .dataframe thead tr:last-of-type th {\n",
       "        text-align: right;\n",
       "    }\n",
       "</style>\n",
       "<table border=\"1\" class=\"dataframe\">\n",
       "  <thead>\n",
       "    <tr>\n",
       "      <th></th>\n",
       "      <th colspan=\"2\" halign=\"left\">sum</th>\n",
       "      <th colspan=\"2\" halign=\"left\">mean</th>\n",
       "      <th colspan=\"2\" halign=\"left\">min</th>\n",
       "      <th colspan=\"2\" halign=\"left\">max</th>\n",
       "      <th colspan=\"2\" halign=\"left\">median</th>\n",
       "      <th colspan=\"2\" halign=\"left\">std</th>\n",
       "      <th colspan=\"2\" halign=\"left\">var</th>\n",
       "    </tr>\n",
       "    <tr>\n",
       "      <th></th>\n",
       "      <th>QTDPARTCES</th>\n",
       "      <th>QTDPARTNOR</th>\n",
       "      <th>QTDPARTCES</th>\n",
       "      <th>QTDPARTNOR</th>\n",
       "      <th>QTDPARTCES</th>\n",
       "      <th>QTDPARTNOR</th>\n",
       "      <th>QTDPARTCES</th>\n",
       "      <th>QTDPARTNOR</th>\n",
       "      <th>QTDPARTCES</th>\n",
       "      <th>QTDPARTNOR</th>\n",
       "      <th>QTDPARTCES</th>\n",
       "      <th>QTDPARTNOR</th>\n",
       "      <th>QTDPARTCES</th>\n",
       "      <th>QTDPARTNOR</th>\n",
       "    </tr>\n",
       "    <tr>\n",
       "      <th>munResArea</th>\n",
       "      <th></th>\n",
       "      <th></th>\n",
       "      <th></th>\n",
       "      <th></th>\n",
       "      <th></th>\n",
       "      <th></th>\n",
       "      <th></th>\n",
       "      <th></th>\n",
       "      <th></th>\n",
       "      <th></th>\n",
       "      <th></th>\n",
       "      <th></th>\n",
       "      <th></th>\n",
       "      <th></th>\n",
       "    </tr>\n",
       "  </thead>\n",
       "  <tbody>\n",
       "    <tr>\n",
       "      <th>(459, 3000]</th>\n",
       "      <td>2952.0</td>\n",
       "      <td>1912.0</td>\n",
       "      <td>0.572981</td>\n",
       "      <td>0.371334</td>\n",
       "      <td>0.0</td>\n",
       "      <td>0.0</td>\n",
       "      <td>5.0</td>\n",
       "      <td>10.0</td>\n",
       "      <td>0.0</td>\n",
       "      <td>0.0</td>\n",
       "      <td>0.749368</td>\n",
       "      <td>0.856441</td>\n",
       "      <td>0.561553</td>\n",
       "      <td>0.733490</td>\n",
       "    </tr>\n",
       "    <tr>\n",
       "      <th>(3000, 34097]</th>\n",
       "      <td>10184.0</td>\n",
       "      <td>12659.0</td>\n",
       "      <td>0.507070</td>\n",
       "      <td>0.632982</td>\n",
       "      <td>0.0</td>\n",
       "      <td>0.0</td>\n",
       "      <td>12.0</td>\n",
       "      <td>41.0</td>\n",
       "      <td>0.0</td>\n",
       "      <td>0.0</td>\n",
       "      <td>0.744981</td>\n",
       "      <td>1.278932</td>\n",
       "      <td>0.554997</td>\n",
       "      <td>1.635668</td>\n",
       "    </tr>\n",
       "  </tbody>\n",
       "</table>\n",
       "</div>"
      ],
      "text/plain": [
       "                     sum                  mean                   min  \\\n",
       "              QTDPARTCES QTDPARTNOR QTDPARTCES QTDPARTNOR QTDPARTCES   \n",
       "munResArea                                                             \n",
       "(459, 3000]       2952.0     1912.0   0.572981   0.371334        0.0   \n",
       "(3000, 34097]    10184.0    12659.0   0.507070   0.632982        0.0   \n",
       "\n",
       "                                max                median             \\\n",
       "              QTDPARTNOR QTDPARTCES QTDPARTNOR QTDPARTCES QTDPARTNOR   \n",
       "munResArea                                                             \n",
       "(459, 3000]          0.0        5.0       10.0        0.0        0.0   \n",
       "(3000, 34097]        0.0       12.0       41.0        0.0        0.0   \n",
       "\n",
       "                     std                   var             \n",
       "              QTDPARTCES QTDPARTNOR QTDPARTCES QTDPARTNOR  \n",
       "munResArea                                                 \n",
       "(459, 3000]     0.749368   0.856441   0.561553   0.733490  \n",
       "(3000, 34097]   0.744981   1.278932   0.554997   1.635668  "
      ]
     },
     "execution_count": 9,
     "metadata": {},
     "output_type": "execute_result"
    }
   ],
   "source": [
    "# VAMOS USAR O QTDPARTCES e QTDPARTNOR\n",
    "\n",
    "sinasc2.pivot_table(values = ['QTDPARTCES', 'QTDPARTNOR'], \n",
    "                    index = [area],\n",
    "                    aggfunc = [sum, np.mean, min, max, np.median, 'std', 'var']\n",
    "                   )"
   ]
  },
  {
   "cell_type": "markdown",
   "metadata": {},
   "source": [
    "### 3. Determine faixas na variável munResAlt e aplique o groupby usando essas faixas como chave e realize operações de soma, media, minimo, maximo, mediana, desvio padrao, variancia pra pelo menos 2 variáveis numéricas ainda não utilizadas"
   ]
  },
  {
   "cell_type": "code",
   "execution_count": 10,
   "metadata": {},
   "outputs": [
    {
     "data": {
      "text/plain": [
       "0        (153.0, 595.0]\n",
       "1        (153.0, 595.0]\n",
       "2        (153.0, 595.0]\n",
       "3        (153.0, 595.0]\n",
       "4        (153.0, 595.0]\n",
       "              ...      \n",
       "27023    (153.0, 595.0]\n",
       "27024    (153.0, 595.0]\n",
       "27025    (153.0, 595.0]\n",
       "27026    (153.0, 595.0]\n",
       "27027    (153.0, 595.0]\n",
       "Name: munResAlt, Length: 27028, dtype: category\n",
       "Categories (2, interval[float64, right]): [(84.999, 153.0] < (153.0, 595.0]]"
      ]
     },
     "execution_count": 10,
     "metadata": {},
     "output_type": "execute_result"
    }
   ],
   "source": [
    "sinasc2['munResAlt']\n",
    "\n",
    "altitude = pd.qcut(sinasc2['munResAlt'], 2)\n",
    "\n",
    "altitude"
   ]
  },
  {
   "cell_type": "code",
   "execution_count": 11,
   "metadata": {},
   "outputs": [
    {
     "data": {
      "text/html": [
       "<div>\n",
       "<style scoped>\n",
       "    .dataframe tbody tr th:only-of-type {\n",
       "        vertical-align: middle;\n",
       "    }\n",
       "\n",
       "    .dataframe tbody tr th {\n",
       "        vertical-align: top;\n",
       "    }\n",
       "\n",
       "    .dataframe thead tr th {\n",
       "        text-align: left;\n",
       "    }\n",
       "\n",
       "    .dataframe thead tr:last-of-type th {\n",
       "        text-align: right;\n",
       "    }\n",
       "</style>\n",
       "<table border=\"1\" class=\"dataframe\">\n",
       "  <thead>\n",
       "    <tr>\n",
       "      <th></th>\n",
       "      <th colspan=\"2\" halign=\"left\">sum</th>\n",
       "      <th colspan=\"2\" halign=\"left\">mean</th>\n",
       "      <th colspan=\"2\" halign=\"left\">min</th>\n",
       "      <th colspan=\"2\" halign=\"left\">max</th>\n",
       "      <th colspan=\"2\" halign=\"left\">median</th>\n",
       "      <th colspan=\"2\" halign=\"left\">std</th>\n",
       "      <th colspan=\"2\" halign=\"left\">var</th>\n",
       "    </tr>\n",
       "    <tr>\n",
       "      <th></th>\n",
       "      <th>QTDGESTANT</th>\n",
       "      <th>SEMAGESTAC</th>\n",
       "      <th>QTDGESTANT</th>\n",
       "      <th>SEMAGESTAC</th>\n",
       "      <th>QTDGESTANT</th>\n",
       "      <th>SEMAGESTAC</th>\n",
       "      <th>QTDGESTANT</th>\n",
       "      <th>SEMAGESTAC</th>\n",
       "      <th>QTDGESTANT</th>\n",
       "      <th>SEMAGESTAC</th>\n",
       "      <th>QTDGESTANT</th>\n",
       "      <th>SEMAGESTAC</th>\n",
       "      <th>QTDGESTANT</th>\n",
       "      <th>SEMAGESTAC</th>\n",
       "    </tr>\n",
       "    <tr>\n",
       "      <th>munResAlt</th>\n",
       "      <th></th>\n",
       "      <th></th>\n",
       "      <th></th>\n",
       "      <th></th>\n",
       "      <th></th>\n",
       "      <th></th>\n",
       "      <th></th>\n",
       "      <th></th>\n",
       "      <th></th>\n",
       "      <th></th>\n",
       "      <th></th>\n",
       "      <th></th>\n",
       "      <th></th>\n",
       "      <th></th>\n",
       "    </tr>\n",
       "  </thead>\n",
       "  <tbody>\n",
       "    <tr>\n",
       "      <th>(84.999, 153.0]</th>\n",
       "      <td>17826.0</td>\n",
       "      <td>493526.0</td>\n",
       "      <td>1.425738</td>\n",
       "      <td>38.568771</td>\n",
       "      <td>0.0</td>\n",
       "      <td>21.0</td>\n",
       "      <td>52.0</td>\n",
       "      <td>45.0</td>\n",
       "      <td>1.0</td>\n",
       "      <td>39.0</td>\n",
       "      <td>1.560818</td>\n",
       "      <td>2.093561</td>\n",
       "      <td>2.436154</td>\n",
       "      <td>4.383000</td>\n",
       "    </tr>\n",
       "    <tr>\n",
       "      <th>(153.0, 595.0]</th>\n",
       "      <td>15090.0</td>\n",
       "      <td>501090.0</td>\n",
       "      <td>1.133564</td>\n",
       "      <td>38.566151</td>\n",
       "      <td>0.0</td>\n",
       "      <td>19.0</td>\n",
       "      <td>12.0</td>\n",
       "      <td>45.0</td>\n",
       "      <td>1.0</td>\n",
       "      <td>39.0</td>\n",
       "      <td>1.223395</td>\n",
       "      <td>1.938267</td>\n",
       "      <td>1.496696</td>\n",
       "      <td>3.756881</td>\n",
       "    </tr>\n",
       "  </tbody>\n",
       "</table>\n",
       "</div>"
      ],
      "text/plain": [
       "                       sum                  mean                   min  \\\n",
       "                QTDGESTANT SEMAGESTAC QTDGESTANT SEMAGESTAC QTDGESTANT   \n",
       "munResAlt                                                                \n",
       "(84.999, 153.0]    17826.0   493526.0   1.425738  38.568771        0.0   \n",
       "(153.0, 595.0]     15090.0   501090.0   1.133564  38.566151        0.0   \n",
       "\n",
       "                                  max                median             \\\n",
       "                SEMAGESTAC QTDGESTANT SEMAGESTAC QTDGESTANT SEMAGESTAC   \n",
       "munResAlt                                                                \n",
       "(84.999, 153.0]       21.0       52.0       45.0        1.0       39.0   \n",
       "(153.0, 595.0]        19.0       12.0       45.0        1.0       39.0   \n",
       "\n",
       "                       std                   var             \n",
       "                QTDGESTANT SEMAGESTAC QTDGESTANT SEMAGESTAC  \n",
       "munResAlt                                                    \n",
       "(84.999, 153.0]   1.560818   2.093561   2.436154   4.383000  \n",
       "(153.0, 595.0]    1.223395   1.938267   1.496696   3.756881  "
      ]
     },
     "execution_count": 11,
     "metadata": {},
     "output_type": "execute_result"
    }
   ],
   "source": [
    "# VAMOS USAR SEMAGESTAC E QTDGESTANT\n",
    "\n",
    "sinasc2.pivot_table(values = ['SEMAGESTAC', 'QTDGESTANT'],\n",
    "                    index = altitude,\n",
    "                    aggfunc = [sum, np.mean, min, max, np.median, 'std', 'var']\n",
    "                   )"
   ]
  },
  {
   "cell_type": "markdown",
   "metadata": {},
   "source": [
    "### 4. Plote no mesmo grafico ao longo do tempo a idade media das mulheres de cada regiao imediatas de rondonia\n",
    "https://pt.wikipedia.org/wiki/Lista_de_regi%C3%B5es_geogr%C3%A1ficas_intermedi%C3%A1rias_e_imediatas_de_Rond%C3%B4nia"
   ]
  },
  {
   "cell_type": "code",
   "execution_count": 12,
   "metadata": {},
   "outputs": [
    {
     "data": {
      "text/plain": [
       "munResNome\n",
       "Ariquemes      25.459635\n",
       "Cacoal         26.434757\n",
       "Jaru           25.805579\n",
       "Ji-Paraná      26.108682\n",
       "Porto Velho    26.166303\n",
       "Vilhena        26.417143\n",
       "Name: IDADEMAE, dtype: float64"
      ]
     },
     "execution_count": 12,
     "metadata": {},
     "output_type": "execute_result"
    }
   ],
   "source": [
    "sinasc3 = sinasc2.set_index('munResNome')\n",
    "\n",
    "mapping = {\n",
    "    'Candeias do Jamari': 'Porto Velho',\n",
    "    'Guajará-Mirim': 'Porto Velho',\n",
    "    'Itapuã do Oeste': 'Porto Velho',\n",
    "    'Nova Mamoré': 'Porto Velho',\n",
    "    'Porto Velho': 'Porto Velho',\n",
    "    'Alto Paraíso': 'Ariquemes',\n",
    "    'Ariquemes': 'Ariquemes',\n",
    "    'Buritis': 'Ariquemes',\n",
    "    'Cacaulândia': 'Ariquemes',\n",
    "    'Campo Novo de Rondônia': 'Ariquemes',\n",
    "    'Cujubim': 'Ariquemes',\n",
    "    'Monte Negro': 'Ariquemes',\n",
    "    'Rio Crespo': 'Ariquemes',\n",
    "    'Governador Jorge Teixeira': 'Jaru',\n",
    "    'Jaru': 'Jaru',\n",
    "    'Machadinho d''Oeste': 'Jaru',\n",
    "    'Theobroma': 'Jaru',\n",
    "    'Vale do Anari': 'Jaru',\n",
    "    'Alvorada d''Oeste': 'Ji-Paraná',\n",
    "    'Costa Marques': 'Ji-Paraná',\n",
    "    'Ji-Paraná': 'Ji-Paraná',\n",
    "    'Mirante da Serra': 'Ji-Paraná',\n",
    "    'Nova União': 'Ji-Paraná',\n",
    "    'Ouro Preto do Oeste': 'Ji-Paraná',\n",
    "    'Presidente Médici': 'Ji-Paraná',\n",
    "    'São Francisco do Guaporé': 'Ji-Paraná',\n",
    "    'São Miguel do Guaporé': 'Ji-Paraná',\n",
    "    'Seringueiras': 'Ji-Paraná',\n",
    "    'Teixeirópolis': 'Ji-Paraná',\n",
    "    'Urupá': 'Ji-Paraná',\n",
    "    'Vale do Paraíso': 'Ji-Paraná',\n",
    "    'Alta Floresta d''Oeste': 'Cacoal',\n",
    "    'Alto Alegre dos Parecis': 'Cacoal',\n",
    "    'Cacoal': 'Cacoal',\n",
    "    'Castanheiras': 'Cacoal',\n",
    "    'Espigão d''Oeste': 'Cacoal',\n",
    "    'Ministro Andreazza': 'Cacoal',\n",
    "    'Nova Brasilândia d''Oeste': 'Cacoal',\n",
    "    'Novo Horizonte do Oeste': 'Cacoal',\n",
    "    'Parecis': 'Cacoal',\n",
    "    'Pimenta Bueno': 'Cacoal',\n",
    "    'Primavera de Rondônia': 'Cacoal',\n",
    "    'Rolim de Moura': 'Cacoal',\n",
    "    'Santa Luzia d''Oeste': 'Cacoal',\n",
    "    'São Felipe d''Oeste': 'Cacoal',\n",
    "    'Cabixi': 'Vilhena',\n",
    "    'Cerejeiras': 'Vilhena',\n",
    "    'Chupinguaia': 'Vilhena',\n",
    "    'Colorado do Oeste': 'Vilhena',\n",
    "    'Corumbiara': 'Vilhena',\n",
    "    'Pimenteiras do Oeste': 'Vilhena',\n",
    "    'Vilhena': 'Vilhena'\n",
    "}\n",
    "\n",
    "sinasc3.groupby(mapping)['IDADEMAE'].mean()"
   ]
  },
  {
   "cell_type": "code",
   "execution_count": 13,
   "metadata": {},
   "outputs": [
    {
     "data": {
      "image/png": "[encoded data removed]",
      "text/plain": [
       "<Figure size 1080x360 with 1 Axes>"
      ]
     },
     "metadata": {
      "needs_background": "light"
     },
     "output_type": "display_data"
    }
   ],
   "source": [
    "sinasc3.groupby(mapping)['IDADEMAE'].mean().sort_values().plot(figsize = [15,5])\n",
    "\n",
    "plt.ylabel('Idade Média das Mães');\n",
    "plt.xlabel('Regiões - RO');"
   ]
  },
  {
   "cell_type": "markdown",
   "metadata": {},
   "source": [
    "### 5. Utilize a tabela do link abaixo e crie faixas utilizando o mapping e gere agrupamentos utilizando essas faixas como chave\n"
   ]
  },
  {
   "cell_type": "markdown",
   "metadata": {},
   "source": [
    "### 5.1 IDH\n",
    "A - https://pt.wikipedia.org/wiki/Lista_de_munic%C3%ADpios_de_Rond%C3%B4nia_por_IDH-M\n"
   ]
  },
  {
   "cell_type": "code",
   "execution_count": 14,
   "metadata": {},
   "outputs": [
    {
     "data": {
      "text/plain": [
       "munResNome\n",
       "IDH-M baixo    25.269231\n",
       "IDH-M médio    25.848191\n",
       "IDH-M alto     26.280332\n",
       "Name: IDADEMAE, dtype: float64"
      ]
     },
     "execution_count": 14,
     "metadata": {},
     "output_type": "execute_result"
    }
   ],
   "source": [
    "mapping = {'Porto Velho': 'IDH-M alto', 'Vilhena': 'IDH-M alto', 'Cacoal': 'IDH-M alto', 'Ji-Paraná': 'IDH-M alto', 'Pimenta Bueno': 'IDH-M alto', 'Ariquemes': 'IDH-M alto', 'Rolim de Moura': 'IDH-M alto', 'Cerejeiras': 'IDH-M médio', 'Jaru': 'IDH-M médio', 'Colorado do Oeste': 'IDH-M médio', 'Ouro Preto do Oeste': 'IDH-M médio', 'Espigão d''Oeste': 'IDH-M médio', 'Santa Luzia d''Oeste': 'IDH-M médio', 'Pimenteiras do Oeste': 'IDH-M médio', 'Presidente Médici': 'IDH-M médio', 'Castanheiras': 'IDH-M médio', 'Guajará-Mirim': 'IDH-M médio', 'Chupinguaia': 'IDH-M médio', 'Cabixi': 'IDH-M médio', 'Candeias do Jamari': 'IDH-M médio', 'São Felipe d''Oeste': 'IDH-M médio', 'Cacaulândia': 'IDH-M médio', 'São Miguel do Guaporé': 'IDH-M médio', 'Mirante da Serra': 'IDH-M médio', 'Alvorada d''Oeste': 'IDH-M médio', 'Teixeirópolis': 'IDH-M médio', 'Nova Brasilândia d''Oeste': 'IDH-M médio', 'Rio Crespo': 'IDH-M médio', 'Primavera de Rondônia': 'IDH-M médio', 'Alta Floresta d''Oeste': 'IDH-M médio', 'Ministro Andreazza': 'IDH-M médio', 'Novo Horizonte do Oeste': 'IDH-M médio', 'Vale do Paraíso': 'IDH-M médio', 'Alto Paraíso': 'IDH-M médio', 'Parecis': 'IDH-M médio', 'Buritis': 'IDH-M médio', 'Itapuã do Oeste': 'IDH-M médio', 'Corumbiara': 'IDH-M médio', 'Cujubim': 'IDH-M médio', 'Costa Marques': 'IDH-M médio', 'São Francisco do Guaporé': 'IDH-M médio', 'Urupá': 'IDH-M médio', 'Monte Negro': 'IDH-M médio', 'Seringueiras': 'IDH-M baixo', 'Governador Jorge Teixeira': 'IDH-M baixo', 'Machadinho d''Oeste': 'IDH-M baixo', 'Campo Novo de Rondônia': 'IDH-M baixo', 'Alto Alegre dos Parecis': 'IDH-M baixo', 'Theobroma': 'IDH-M baixo', 'Nova União': 'IDH-M baixo', 'Nova Mamoré': 'IDH-M baixo', 'Vale do Anari': 'IDH-M baixo'}\n",
    "\n",
    "sinasc3.groupby(mapping)['IDADEMAE'].mean().sort_values()"
   ]
  },
  {
   "cell_type": "code",
   "execution_count": 15,
   "metadata": {},
   "outputs": [
    {
     "data": {
      "image/png": "[encoded data removed]",
      "text/plain": [
       "<Figure size 1080x360 with 1 Axes>"
      ]
     },
     "metadata": {
      "needs_background": "light"
     },
     "output_type": "display_data"
    }
   ],
   "source": [
    "sinasc3.groupby(mapping)['IDADEMAE'].mean().sort_values().plot(figsize = [15,5])\n",
    "\n",
    "plt.ylabel('Idade Média das Mãe')\n",
    "plt.xlabel('IDH');"
   ]
  },
  {
   "cell_type": "markdown",
   "metadata": {},
   "source": [
    "### 5.2 IFDM \n",
    "B - https://pt.wikipedia.org/wiki/Lista_de_munic%C3%ADpios_de_Rond%C3%B4nia_por_IFDM\n"
   ]
  },
  {
   "cell_type": "code",
   "execution_count": 16,
   "metadata": {},
   "outputs": [
    {
     "data": {
      "text/plain": [
       "munResNome\n",
       "Desenvolvimento regular     25.412005\n",
       "Desenvolvimento moderado    26.226921\n",
       "Name: IDADEMAE, dtype: float64"
      ]
     },
     "execution_count": 16,
     "metadata": {},
     "output_type": "execute_result"
    }
   ],
   "source": [
    "mapping = {'Ariquemes': 'Desenvolvimento moderado', 'Vilhena': 'Desenvolvimento moderado', 'Pimenta Bueno': 'Desenvolvimento moderado', 'Porto Velho': 'Desenvolvimento moderado', 'Ji-Paraná': 'Desenvolvimento moderado', 'Cacoal': 'Desenvolvimento moderado', 'Santa Luzia d''Oeste': 'Desenvolvimento moderado', 'Rolim de Moura': 'Desenvolvimento moderado', 'Chupinguaia': 'Desenvolvimento moderado', 'São Miguel do Guaporé': 'Desenvolvimento moderado', 'Pimenteiras do Oeste': 'Desenvolvimento moderado', 'Teixeirópolis': 'Desenvolvimento moderado', 'Colorado do Oeste': 'Desenvolvimento moderado', 'Jaru': 'Desenvolvimento moderado', 'Rio Crespo': 'Desenvolvimento moderado', 'Primavera de Rondônia': 'Desenvolvimento moderado', 'Alta Floresta d''Oeste': 'Desenvolvimento moderado', 'Ouro Preto do Oeste': 'Desenvolvimento moderado', 'São Francisco do Guaporé': 'Desenvolvimento moderado', 'Candeias do Jamari': 'Desenvolvimento moderado', 'Buritis': 'Desenvolvimento moderado', 'São Felipe d''Oeste': 'Desenvolvimento moderado', 'Presidente Médici': 'Desenvolvimento moderado', 'Cerejeiras': 'Desenvolvimento moderado', 'Monte Negro': 'Desenvolvimento moderado', 'Urupá': 'Desenvolvimento moderado', 'Espigão d''Oeste': 'Desenvolvimento regular', 'Seringueiras': 'Desenvolvimento regular', 'Alvorada d''Oeste': 'Desenvolvimento regular', 'Itapuã do Oeste': 'Desenvolvimento regular', 'Cabixi': 'Desenvolvimento regular', 'Novo Horizonte do Oeste': 'Desenvolvimento regular', 'Nova Brasilândia d''Oeste': 'Desenvolvimento regular', 'Vale do Paraíso': 'Desenvolvimento regular', 'Corumbiara': 'Desenvolvimento regular', 'Alto Paraíso': 'Desenvolvimento regular', 'Cacaulândia': 'Desenvolvimento regular', 'Vale do Anari': 'Desenvolvimento regular', 'Ministro Andreazza': 'Desenvolvimento regular', 'Costa Marques': 'Desenvolvimento regular', 'Nova União': 'Desenvolvimento regular', 'Guajará-Mirim': 'Desenvolvimento regular', 'Mirante da Serra': 'Desenvolvimento regular', 'Parecis': 'Desenvolvimento regular', 'Castanheiras': 'Desenvolvimento regular', 'Theobroma': 'Desenvolvimento regular', 'Machadinho d''Oeste': 'Desenvolvimento regular', 'Campo Novo de Rondônia': 'Desenvolvimento regular', 'Nova Mamoré': 'Desenvolvimento regular', 'Cujubim': 'Desenvolvimento regular', 'Alto Alegre dos Parecis': 'Desenvolvimento regular', 'Governador Jorge Teixeira': 'Desenvolvimento regular'}\n",
    "\n",
    "sinasc3.groupby(mapping)['IDADEMAE'].mean().sort_values()"
   ]
  },
  {
   "cell_type": "code",
   "execution_count": 17,
   "metadata": {},
   "outputs": [
    {
     "data": {
      "image/png": "[encoded data removed]",
      "text/plain": [
       "<Figure size 1080x360 with 1 Axes>"
      ]
     },
     "metadata": {
      "needs_background": "light"
     },
     "output_type": "display_data"
    }
   ],
   "source": [
    "sinasc3.groupby(mapping)['IDADEMAE'].mean().sort_values().plot(figsize = [15,5])\n",
    "\n",
    "plt.ylabel('Idade Média das Mães')\n",
    "plt.xlabel('IFDM');"
   ]
  },
  {
   "cell_type": "markdown",
   "metadata": {},
   "source": [
    "### 5.3 PIB\n",
    "C - https://pt.wikipedia.org/wiki/Lista_de_munic%C3%ADpios_de_Rond%C3%B4nia_por_PIB\n"
   ]
  },
  {
   "cell_type": "code",
   "execution_count": 18,
   "metadata": {},
   "outputs": [
    {
     "data": {
      "text/plain": [
       "munResNome\n",
       "Acima de 200 Milhões    25.146435\n",
       "Acima de 100 Milhões    25.638424\n",
       "Acima de 300 Milhões    25.706070\n",
       "Acima de 500 Milhões    25.785927\n",
       "Acima de 1 Bilhão       26.265562\n",
       "Até 100 Milhões         26.519894\n",
       "Name: IDADEMAE, dtype: float64"
      ]
     },
     "execution_count": 18,
     "metadata": {},
     "output_type": "execute_result"
    }
   ],
   "source": [
    "mapping = {'Porto Velho': 'Acima de 1 Bilhão', 'Ji-Paraná': 'Acima de 1 Bilhão', 'Vilhena': 'Acima de 1 Bilhão', 'Ariquemes': 'Acima de 1 Bilhão', 'Cacoal': 'Acima de 1 Bilhão', 'Jaru': 'Acima de 1 Bilhão', 'Rolim de Moura': 'Acima de 1 Bilhão', 'Pimenta Bueno': 'Acima de 1 Bilhão', 'Guajará-Mirim': 'Acima de 500 Milhões', 'Ouro Preto do Oeste': 'Acima de 500 Milhões', 'Buritis': 'Acima de 500 Milhões', 'Machadinho d''Oeste': 'Acima de 500 Milhões', 'Espigão d''Oeste': 'Acima de 500 Milhões', 'São Miguel do Guaporé': 'Acima de 500 Milhões', 'Candeias do Jamari': 'Acima de 500 Milhões', 'Nova Mamoré': 'Acima de 500 Milhões', 'Cerejeiras': 'Acima de 500 Milhões', 'Alta Floresta d''Oeste': 'Acima de 300 Milhões', 'Presidente Médici': 'Acima de 300 Milhões', 'Cujubim': 'Acima de 300 Milhões', 'Nova Brasilândia d''Oeste': 'Acima de 300 Milhões', 'Alto Paraíso': 'Acima de 300 Milhões', 'São Francisco do Guaporé': 'Acima de 300 Milhões', 'Colorado do Oeste': 'Acima de 300 Milhões', 'Monte Negro': 'Acima de 200 Milhões', 'Alto Alegre dos Parecis': 'Acima de 200 Milhões', 'Campo Novo de Rondônia': 'Acima de 200 Milhões', 'Alvorada d''Oeste': 'Acima de 200 Milhões', 'Chupinguaia': 'Acima de 100 Milhões', 'Corumbiara': 'Acima de 100 Milhões', 'Ministro Andreazza': 'Acima de 100 Milhões', 'Urupá': 'Acima de 100 Milhões', 'Costa Marques': 'Acima de 100 Milhões', 'Seringueiras': 'Acima de 100 Milhões', 'Mirante da Serra': 'Acima de 100 Milhões', 'Governador Jorge Teixeira': 'Acima de 100 Milhões', 'Theobroma': 'Acima de 100 Milhões', 'Santa Luzia d''Oeste': 'Acima de 100 Milhões', 'Novo Horizonte do Oeste': 'Acima de 100 Milhões', 'Itapuã do Oeste': 'Acima de 100 Milhões', 'Vale do Paraíso': 'Acima de 100 Milhões', 'Cacaulândia': 'Acima de 100 Milhões', 'Cabixi': 'Acima de 100 Milhões', 'Vale do Anari': 'Acima de 100 Milhões', 'Nova União': 'Até 100 Milhões', 'Parecis': 'Até 100 Milhões', 'Rio Crespo': 'Até 100 Milhões', 'Pimenteiras do Oeste': 'Até 100 Milhões', 'Teixeirópolis': 'Até 100 Milhões', 'São Felipe d''Oeste': 'Até 100 Milhões', 'Castanheiras': 'Até 100 Milhões', 'Primavera de Rondônia': 'Até 100 Milhões'}\n",
    "\n",
    "sinasc3.groupby(mapping)['IDADEMAE'].mean().sort_values()"
   ]
  },
  {
   "cell_type": "code",
   "execution_count": 19,
   "metadata": {},
   "outputs": [
    {
     "data": {
      "image/png": "[encoded data removed]",
      "text/plain": [
       "<Figure size 1080x360 with 1 Axes>"
      ]
     },
     "metadata": {
      "needs_background": "light"
     },
     "output_type": "display_data"
    }
   ],
   "source": [
    "sinasc3.groupby(mapping)['IDADEMAE'].mean().sort_values().plot(figsize = [15,5])\n",
    "\n",
    "plt.ylabel('Idade Média das Mães')\n",
    "plt.xlabel('PIB');"
   ]
  },
  {
   "cell_type": "markdown",
   "metadata": {},
   "source": [
    "### Analise as respostas encontradas, tire algum insight delas, conte pra gente algo encontrado nos dados."
   ]
  },
  {
   "cell_type": "markdown",
   "metadata": {},
   "source": [
    "Exemplo:\n",
    "- Ah, descobri que a idade mediana das mulheres que deram a luz no ano de 2019 dos municipios com o PIB mais alto é a maior dentre todas."
   ]
  },
  {
   "cell_type": "markdown",
   "metadata": {},
   "source": [
    "- Descobri que quanto maior o IDH ou IFDM ter um desenvolvimento maior, a idade média das mães é maior.\n",
    "\n",
    "- Sobre o PIB, não teve o acompanhamento igual o IDH IFDM."
   ]
  }
 ],
 "metadata": {
  "kernelspec": {
   "display_name": "Python 3 (ipykernel)",
   "language": "python",
   "name": "python3"
  },
  "language_info": {
   "codemirror_mode": {
    "name": "ipython",
    "version": 3
   },
   "file_extension": ".py",
   "mimetype": "text/x-python",
   "name": "python",
   "nbconvert_exporter": "python",
   "pygments_lexer": "ipython3",
   "version": "3.10.5"
  },
  "varInspector": {
   "cols": {
    "lenName": 16,
    "lenType": 16,
    "lenVar": 40
   },
   "kernels_config": {
    "python": {
     "delete_cmd_postfix": "",
     "delete_cmd_prefix": "del ",
     "library": "var_list.py",
     "varRefreshCmd": "print(var_dic_list())"
    },
    "r": {
     "delete_cmd_postfix": ") ",
     "delete_cmd_prefix": "rm(",
     "library": "var_list.r",
     "varRefreshCmd": "cat(var_dic_list()) "
    }
   },
   "types_to_exclude": [
    "module",
    "function",
    "builtin_function_or_method",
    "instance",
    "_Feature"
   ],
   "window_display": false
  }
 },
 "nbformat": 4,
 "nbformat_minor": 4
}
