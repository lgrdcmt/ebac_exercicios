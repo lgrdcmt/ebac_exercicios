{
 "cells": [
  {
   "cell_type": "markdown",
   "metadata": {},
   "source": [
    "# EBAC - Regressão II - regressão múltipla\n",
    "\n",
    "## Tarefa I"
   ]
  },
  {
   "cell_type": "markdown",
   "metadata": {},
   "source": [
    "#### Previsão de renda II\n",
    "\n",
    "Vamos continuar trabalhando com a base 'previsao_de_renda.csv', que é a base do seu próximo projeto. Vamos usar os recursos que vimos até aqui nesta base.\n",
    "\n",
    "|variavel|descrição|\n",
    "|-|-|\n",
    "|data_ref                | Data de referência de coleta das variáveis |\n",
    "|index                   | Código de identificação do cliente|\n",
    "|sexo                    | Sexo do cliente|\n",
    "|posse_de_veiculo        | Indica se o cliente possui veículo|\n",
    "|posse_de_imovel         | Indica se o cliente possui imóvel|\n",
    "|qtd_filhos              | Quantidade de filhos do cliente|\n",
    "|tipo_renda              | Tipo de renda do cliente|\n",
    "|educacao                | Grau de instrução do cliente|\n",
    "|estado_civil            | Estado civil do cliente|\n",
    "|tipo_residencia         | Tipo de residência do cliente (própria, alugada etc)|\n",
    "|idade                   | Idade do cliente|\n",
    "|tempo_emprego           | Tempo no emprego atual|\n",
    "|qt_pessoas_residencia   | Quantidade de pessoas que moram na residência|\n",
    "|renda                   | Renda em reais|"
   ]
  },
  {
   "cell_type": "code",
   "execution_count": 1,
   "metadata": {},
   "outputs": [],
   "source": [
    "import pandas as pd\n",
    "import seaborn as sns\n",
    "import matplotlib.pyplot as plt\n",
    "import seaborn as sns\n",
    "import numpy as np\n",
    "\n",
    "from sklearn.tree import DecisionTreeRegressor\n",
    "from sklearn import tree\n",
    "from sklearn.model_selection import train_test_split\n",
    "from sklearn.metrics import mean_squared_error\n",
    "\n",
    "\n",
    "import patsy\n",
    "import statsmodels.api as sm\n",
    "import statsmodels.formula.api as smf"
   ]
  },
  {
   "cell_type": "code",
   "execution_count": 2,
   "metadata": {},
   "outputs": [],
   "source": [
    "df = pd.read_csv('Mod10 - previsao_de_renda.csv')"
   ]
  },
  {
   "cell_type": "code",
   "execution_count": 3,
   "metadata": {},
   "outputs": [
    {
     "name": "stdout",
     "output_type": "stream",
     "text": [
      "<class 'pandas.core.frame.DataFrame'>\n",
      "RangeIndex: 15000 entries, 0 to 14999\n",
      "Data columns (total 16 columns):\n",
      " #   Column                 Non-Null Count  Dtype  \n",
      "---  ------                 --------------  -----  \n",
      " 0   Unnamed: 0             15000 non-null  int64  \n",
      " 1   data_ref               15000 non-null  object \n",
      " 2   index                  15000 non-null  int64  \n",
      " 3   sexo                   15000 non-null  object \n",
      " 4   posse_de_veiculo       15000 non-null  bool   \n",
      " 5   posse_de_imovel        15000 non-null  bool   \n",
      " 6   qtd_filhos             15000 non-null  int64  \n",
      " 7   tipo_renda             15000 non-null  object \n",
      " 8   educacao               15000 non-null  object \n",
      " 9   estado_civil           15000 non-null  object \n",
      " 10  tipo_residencia        15000 non-null  object \n",
      " 11  idade                  15000 non-null  int64  \n",
      " 12  tempo_emprego          12466 non-null  float64\n",
      " 13  qt_pessoas_residencia  15000 non-null  float64\n",
      " 14  mau                    15000 non-null  bool   \n",
      " 15  renda                  15000 non-null  float64\n",
      "dtypes: bool(3), float64(3), int64(4), object(6)\n",
      "memory usage: 1.5+ MB\n"
     ]
    }
   ],
   "source": [
    "df.info()"
   ]
  },
  {
   "cell_type": "code",
   "execution_count": 4,
   "metadata": {},
   "outputs": [
    {
     "name": "stdout",
     "output_type": "stream",
     "text": [
      "<class 'pandas.core.frame.DataFrame'>\n",
      "Int64Index: 12466 entries, 0 to 14999\n",
      "Data columns (total 12 columns):\n",
      " #   Column                 Non-Null Count  Dtype  \n",
      "---  ------                 --------------  -----  \n",
      " 0   sexo                   12466 non-null  object \n",
      " 1   posse_de_veiculo       12466 non-null  bool   \n",
      " 2   posse_de_imovel        12466 non-null  bool   \n",
      " 3   qtd_filhos             12466 non-null  int64  \n",
      " 4   tipo_renda             12466 non-null  object \n",
      " 5   educacao               12466 non-null  object \n",
      " 6   estado_civil           12466 non-null  object \n",
      " 7   tipo_residencia        12466 non-null  object \n",
      " 8   idade                  12466 non-null  int64  \n",
      " 9   tempo_emprego          12466 non-null  float64\n",
      " 10  qt_pessoas_residencia  12466 non-null  float64\n",
      " 11  renda                  12466 non-null  float64\n",
      "dtypes: bool(2), float64(3), int64(2), object(5)\n",
      "memory usage: 1.1+ MB\n"
     ]
    }
   ],
   "source": [
    "X = df.drop(['Unnamed: 0' , 'data_ref' , 'index', 'mau'], axis = 1)\n",
    "\n",
    "X.dropna(inplace = True)\n",
    "\n",
    "X.info()"
   ]
  },
  {
   "cell_type": "markdown",
   "metadata": {},
   "source": [
    "1. Separe a base em treinamento e teste (25% para teste, 75% para treinamento).\n",
    "2. Rode uma regularização *ridge* com alpha = [0, 0.001, 0.005, 0.01, 0.05, 0.1] e avalie o $R^2$ na base de testes. Qual o melhor modelo?\n",
    "3. Faça o mesmo que no passo 2, com uma regressão *LASSO*. Qual método chega a um melhor resultado?\n",
    "4. Rode um modelo *stepwise*. Avalie o $R^2$ na vase de testes. Qual o melhor resultado?\n",
    "5. Compare os parâmetros e avalie eventuais diferenças. Qual modelo você acha o melhor de todos?\n",
    "6. Partindo dos modelos que você ajustou, tente melhorar o $R^2$ na base de testes. Use a criatividade, veja se consegue inserir alguma transformação ou combinação de variáveis.\n",
    "7. Ajuste uma árvore de regressão e veja se consegue um $R^2$ melhor com ela."
   ]
  },
  {
   "cell_type": "code",
   "execution_count": 5,
   "metadata": {},
   "outputs": [],
   "source": [
    "# 1.\n",
    "\n",
    "X_train, X_test = train_test_split(X, train_size=0.75, random_state=100)"
   ]
  },
  {
   "cell_type": "code",
   "execution_count": 6,
   "metadata": {},
   "outputs": [
    {
     "data": {
      "text/html": [
       "<div>\n",
       "<style scoped>\n",
       "    .dataframe tbody tr th:only-of-type {\n",
       "        vertical-align: middle;\n",
       "    }\n",
       "\n",
       "    .dataframe tbody tr th {\n",
       "        vertical-align: top;\n",
       "    }\n",
       "\n",
       "    .dataframe thead th {\n",
       "        text-align: right;\n",
       "    }\n",
       "</style>\n",
       "<table border=\"1\" class=\"dataframe\">\n",
       "  <thead>\n",
       "    <tr style=\"text-align: right;\">\n",
       "      <th></th>\n",
       "      <th>sexo</th>\n",
       "      <th>posse_de_veiculo</th>\n",
       "      <th>posse_de_imovel</th>\n",
       "      <th>qtd_filhos</th>\n",
       "      <th>tipo_renda</th>\n",
       "      <th>educacao</th>\n",
       "      <th>estado_civil</th>\n",
       "      <th>tipo_residencia</th>\n",
       "      <th>idade</th>\n",
       "      <th>tempo_emprego</th>\n",
       "      <th>qt_pessoas_residencia</th>\n",
       "      <th>renda</th>\n",
       "    </tr>\n",
       "  </thead>\n",
       "  <tbody>\n",
       "    <tr>\n",
       "      <th>7879</th>\n",
       "      <td>F</td>\n",
       "      <td>True</td>\n",
       "      <td>True</td>\n",
       "      <td>0</td>\n",
       "      <td>Assalariado</td>\n",
       "      <td>Secundário</td>\n",
       "      <td>Casado</td>\n",
       "      <td>Casa</td>\n",
       "      <td>50</td>\n",
       "      <td>6.715068</td>\n",
       "      <td>2.0</td>\n",
       "      <td>3984.86</td>\n",
       "    </tr>\n",
       "    <tr>\n",
       "      <th>2632</th>\n",
       "      <td>F</td>\n",
       "      <td>False</td>\n",
       "      <td>True</td>\n",
       "      <td>0</td>\n",
       "      <td>Empresário</td>\n",
       "      <td>Secundário</td>\n",
       "      <td>Casado</td>\n",
       "      <td>Casa</td>\n",
       "      <td>51</td>\n",
       "      <td>6.630137</td>\n",
       "      <td>2.0</td>\n",
       "      <td>4196.93</td>\n",
       "    </tr>\n",
       "    <tr>\n",
       "      <th>3971</th>\n",
       "      <td>F</td>\n",
       "      <td>False</td>\n",
       "      <td>True</td>\n",
       "      <td>0</td>\n",
       "      <td>Assalariado</td>\n",
       "      <td>Superior completo</td>\n",
       "      <td>Casado</td>\n",
       "      <td>Casa</td>\n",
       "      <td>40</td>\n",
       "      <td>8.123288</td>\n",
       "      <td>2.0</td>\n",
       "      <td>2584.87</td>\n",
       "    </tr>\n",
       "    <tr>\n",
       "      <th>7140</th>\n",
       "      <td>M</td>\n",
       "      <td>True</td>\n",
       "      <td>True</td>\n",
       "      <td>0</td>\n",
       "      <td>Empresário</td>\n",
       "      <td>Secundário</td>\n",
       "      <td>Casado</td>\n",
       "      <td>Casa</td>\n",
       "      <td>42</td>\n",
       "      <td>3.257534</td>\n",
       "      <td>2.0</td>\n",
       "      <td>3294.94</td>\n",
       "    </tr>\n",
       "    <tr>\n",
       "      <th>2972</th>\n",
       "      <td>F</td>\n",
       "      <td>False</td>\n",
       "      <td>True</td>\n",
       "      <td>0</td>\n",
       "      <td>Empresário</td>\n",
       "      <td>Secundário</td>\n",
       "      <td>Viúvo</td>\n",
       "      <td>Casa</td>\n",
       "      <td>54</td>\n",
       "      <td>4.008219</td>\n",
       "      <td>1.0</td>\n",
       "      <td>1969.89</td>\n",
       "    </tr>\n",
       "  </tbody>\n",
       "</table>\n",
       "</div>"
      ],
      "text/plain": [
       "     sexo  posse_de_veiculo  posse_de_imovel  qtd_filhos   tipo_renda  \\\n",
       "7879    F              True             True           0  Assalariado   \n",
       "2632    F             False             True           0   Empresário   \n",
       "3971    F             False             True           0  Assalariado   \n",
       "7140    M              True             True           0   Empresário   \n",
       "2972    F             False             True           0   Empresário   \n",
       "\n",
       "               educacao estado_civil tipo_residencia  idade  tempo_emprego  \\\n",
       "7879         Secundário       Casado            Casa     50       6.715068   \n",
       "2632         Secundário       Casado            Casa     51       6.630137   \n",
       "3971  Superior completo       Casado            Casa     40       8.123288   \n",
       "7140         Secundário       Casado            Casa     42       3.257534   \n",
       "2972         Secundário        Viúvo            Casa     54       4.008219   \n",
       "\n",
       "      qt_pessoas_residencia    renda  \n",
       "7879                    2.0  3984.86  \n",
       "2632                    2.0  4196.93  \n",
       "3971                    2.0  2584.87  \n",
       "7140                    2.0  3294.94  \n",
       "2972                    1.0  1969.89  "
      ]
     },
     "execution_count": 6,
     "metadata": {},
     "output_type": "execute_result"
    }
   ],
   "source": [
    "X_train.head()"
   ]
  },
  {
   "cell_type": "code",
   "execution_count": 7,
   "metadata": {},
   "outputs": [],
   "source": [
    "# 2.\n",
    "\n",
    "modelo = patsy.dmatrices('''renda ~ sexo\n",
    "                                  + posse_de_veiculo\n",
    "                                  + C(posse_de_imovel, Treatment(1))\n",
    "                                  + qtd_filhos\n",
    "                                  + C(tipo_renda, Treatment(0))\n",
    "                                  + C(educacao, Treatment(2))\n",
    "                                  + estado_civil\n",
    "                                  + C(tipo_residencia, Treatment(1))\n",
    "                                  + idade\n",
    "                                  + tempo_emprego\n",
    "                                  + qt_pessoas_residencia\n",
    "                                  ''', X_train)"
   ]
  },
  {
   "cell_type": "code",
   "execution_count": 8,
   "metadata": {},
   "outputs": [
    {
     "name": "stdout",
     "output_type": "stream",
     "text": [
      "R² = 0.23034752240050782 Adj. R² = 0.2283664349420792 Alpha = 0 \n",
      "R² = 0.23034752240050782 Adj. R² = 0.2283664349420792 Alpha = 0.001 \n",
      "R² = 0.23034752240050782 Adj. R² = 0.2283664349420792 Alpha = 0.005 \n",
      "R² = 0.23034752240050782 Adj. R² = 0.2283664349420792 Alpha = 0.01 \n",
      "R² = 0.23034752240050782 Adj. R² = 0.2283664349420792 Alpha = 0.05 \n",
      "R² = 0.23034752240050782 Adj. R² = 0.2283664349420792 Alpha = 0.1 \n"
     ]
    }
   ],
   "source": [
    "alpha = [0, 0.001, 0.005, 0.01, 0.05, 0.1]\n",
    "\n",
    "for i in alpha:\n",
    "    md = smf.ols(modelo, data = X_train).fit_regularized(method = 'elastic_net' \n",
    "                         , refit = True\n",
    "                         , L1_wt = 0.00001\n",
    "                         , alpha = i)\n",
    "    print(f'R² = {md.rsquared} Adj. R² = {md.rsquared_adj} Alpha = {i} ')"
   ]
  },
  {
   "cell_type": "markdown",
   "metadata": {},
   "source": [
    " - Não teve alteração em relação ao R²"
   ]
  },
  {
   "cell_type": "code",
   "execution_count": 9,
   "metadata": {},
   "outputs": [
    {
     "name": "stdout",
     "output_type": "stream",
     "text": [
      "R² = 0.23034752240050782 Adj. R² = 0.2283664349420792 Alpha = 0 \n",
      "R² = 0.23034752240050782 Adj. R² = 0.2283664349420792 Alpha = 0.001 \n",
      "R² = 0.23034752240050782 Adj. R² = 0.2283664349420792 Alpha = 0.005 \n",
      "R² = 0.23034752240050782 Adj. R² = 0.2283664349420792 Alpha = 0.01 \n",
      "R² = 0.23033351813386949 Adj. R² = 0.22843514504186724 Alpha = 0.05 \n",
      "R² = 0.2302310335316513 Adj. R² = 0.2284151513461159 Alpha = 0.1 \n"
     ]
    }
   ],
   "source": [
    "# 3.\n",
    "\n",
    "alpha = [0, 0.001, 0.005, 0.01, 0.05, 0.1]\n",
    "\n",
    "for i in alpha:\n",
    "    md = smf.ols(modelo, data = X_train).fit_regularized(method = 'elastic_net' \n",
    "                         , refit = True\n",
    "                         , L1_wt = 1\n",
    "                         , alpha = i)\n",
    "    print(f'R² = {md.rsquared} Adj. R² = {md.rsquared_adj} Alpha = {i} ')"
   ]
  },
  {
   "cell_type": "markdown",
   "metadata": {},
   "source": [
    " - Os melhores R² ficaram com o alpha = [0, 0.001, 0.005, 0.01]"
   ]
  },
  {
   "cell_type": "code",
   "execution_count": 10,
   "metadata": {},
   "outputs": [],
   "source": [
    "# 4.\n",
    "\n",
    "def stepwise_selection(X, y, \n",
    "                       initial_list=[], \n",
    "                       threshold_in=0.05, \n",
    "                       threshold_out = 0.05, \n",
    "                       verbose=True):\n",
    "    \"\"\" Perform a forward-backward feature selection \n",
    "    based on p-value from statsmodels.api.OLS\n",
    "    Arguments:\n",
    "        X - pandas.DataFrame with candidate features\n",
    "        y - list-like with the target\n",
    "        initial_list - list of features to start with (column names of X)\n",
    "        threshold_in - include a feature if its p-value < threshold_in\n",
    "        threshold_out - exclude a feature if its p-value > threshold_out\n",
    "        verbose - whether to print the sequence of inclusions and exclusions\n",
    "    Returns: list of selected features \n",
    "    Always set threshold_in < threshold_out to avoid infinite looping.\n",
    "    See https://en.wikipedia.org/wiki/Stepwise_regression for the details\n",
    "    \"\"\"\n",
    "    included = list(initial_list)\n",
    "    while True:\n",
    "        changed=False\n",
    "        # forward step\n",
    "        excluded = list(set(X.columns)-set(included))\n",
    "        new_pval = pd.Series(index=excluded, dtype=np.dtype('float64'))\n",
    "        for new_column in excluded:\n",
    "            model = sm.OLS(y, sm.add_constant(pd.DataFrame(X[included+[new_column]]))).fit()\n",
    "            new_pval[new_column] = model.pvalues[new_column]\n",
    "        best_pval = new_pval.min()\n",
    "        if best_pval < threshold_in:\n",
    "            best_feature = new_pval.index[new_pval.argmin()]\n",
    "            included.append(best_feature)\n",
    "            changed=True\n",
    "            if verbose:\n",
    "                 print('Add  {:30} with p-value {:.6}'.format(best_feature, best_pval))\n",
    "\n",
    "        # backward step\n",
    "        print(\"#############\")\n",
    "        print(included)\n",
    "        model = sm.OLS(y, sm.add_constant(pd.DataFrame(X[included]))).fit()\n",
    "        # use all coefs except intercept\n",
    "        pvalues = model.pvalues.iloc[1:]\n",
    "        worst_pval = pvalues.max() # null if pvalues is empty\n",
    "        if worst_pval > threshold_out:\n",
    "            changed=True\n",
    "            worst_feature = pvalues.argmax()\n",
    "            included.remove(worst_feature)\n",
    "            if verbose:\n",
    "                print('Drop {:30} with p-value {:.6}'.format(worst_feature, worst_pval))\n",
    "        if not changed:\n",
    "            break\n",
    "    return included"
   ]
  },
  {
   "cell_type": "code",
   "execution_count": 11,
   "metadata": {},
   "outputs": [],
   "source": [
    "X_step = X_train.drop('renda', axis = 1)\n",
    "X_step = pd.get_dummies(X_step, columns = ['sexo', 'posse_de_veiculo', 'posse_de_imovel', 'tipo_renda', 'educacao', 'estado_civil', 'tipo_residencia'], drop_first=True)\n",
    "\n",
    "y_step = np.array(X_train[['renda']])"
   ]
  },
  {
   "cell_type": "code",
   "execution_count": 12,
   "metadata": {},
   "outputs": [
    {
     "name": "stdout",
     "output_type": "stream",
     "text": [
      "Add  tempo_emprego                  with p-value 0.0\n",
      "#############\n",
      "['tempo_emprego']\n",
      "Add  sexo_M                         with p-value 1.8412e-121\n",
      "#############\n",
      "['tempo_emprego', 'sexo_M']\n",
      "Add  tipo_renda_Empresário          with p-value 2.08796e-24\n",
      "#############\n",
      "['tempo_emprego', 'sexo_M', 'tipo_renda_Empresário']\n",
      "Add  educacao_Superior completo     with p-value 5.68231e-11\n",
      "#############\n",
      "['tempo_emprego', 'sexo_M', 'tipo_renda_Empresário', 'educacao_Superior completo']\n",
      "Add  idade                          with p-value 1.09787e-08\n",
      "#############\n",
      "['tempo_emprego', 'sexo_M', 'tipo_renda_Empresário', 'educacao_Superior completo', 'idade']\n",
      "Add  posse_de_imovel_True           with p-value 1.39859e-05\n",
      "#############\n",
      "['tempo_emprego', 'sexo_M', 'tipo_renda_Empresário', 'educacao_Superior completo', 'idade', 'posse_de_imovel_True']\n",
      "Add  tipo_renda_Servidor público    with p-value 0.0138807\n",
      "#############\n",
      "['tempo_emprego', 'sexo_M', 'tipo_renda_Empresário', 'educacao_Superior completo', 'idade', 'posse_de_imovel_True', 'tipo_renda_Servidor público']\n",
      "Add  educacao_Pós graduação         with p-value 0.0193064\n",
      "#############\n",
      "['tempo_emprego', 'sexo_M', 'tipo_renda_Empresário', 'educacao_Superior completo', 'idade', 'posse_de_imovel_True', 'tipo_renda_Servidor público', 'educacao_Pós graduação']\n",
      "#############\n",
      "['tempo_emprego', 'sexo_M', 'tipo_renda_Empresário', 'educacao_Superior completo', 'idade', 'posse_de_imovel_True', 'tipo_renda_Servidor público', 'educacao_Pós graduação']\n",
      "resulting features:\n",
      "['tempo_emprego', 'sexo_M', 'tipo_renda_Empresário', 'educacao_Superior completo', 'idade', 'posse_de_imovel_True', 'tipo_renda_Servidor público', 'educacao_Pós graduação']\n"
     ]
    }
   ],
   "source": [
    "result = stepwise_selection(X_step, y_step)\n",
    "\n",
    "print('resulting features:')\n",
    "print(result)"
   ]
  },
  {
   "cell_type": "code",
   "execution_count": 13,
   "metadata": {},
   "outputs": [
    {
     "data": {
      "text/html": [
       "<table class=\"simpletable\">\n",
       "<caption>OLS Regression Results</caption>\n",
       "<tr>\n",
       "  <th>Dep. Variable:</th>            <td>y</td>        <th>  R-squared:         </th> <td>   0.230</td> \n",
       "</tr>\n",
       "<tr>\n",
       "  <th>Model:</th>                   <td>OLS</td>       <th>  Adj. R-squared:    </th> <td>   0.229</td> \n",
       "</tr>\n",
       "<tr>\n",
       "  <th>Method:</th>             <td>Least Squares</td>  <th>  F-statistic:       </th> <td>   347.9</td> \n",
       "</tr>\n",
       "<tr>\n",
       "  <th>Date:</th>             <td>Sun, 16 Oct 2022</td> <th>  Prob (F-statistic):</th>  <td>  0.00</td>  \n",
       "</tr>\n",
       "<tr>\n",
       "  <th>Time:</th>                 <td>15:49:13</td>     <th>  Log-Likelihood:    </th> <td> -91480.</td> \n",
       "</tr>\n",
       "<tr>\n",
       "  <th>No. Observations:</th>      <td>  9349</td>      <th>  AIC:               </th> <td>1.830e+05</td>\n",
       "</tr>\n",
       "<tr>\n",
       "  <th>Df Residuals:</th>          <td>  9340</td>      <th>  BIC:               </th> <td>1.830e+05</td>\n",
       "</tr>\n",
       "<tr>\n",
       "  <th>Df Model:</th>              <td>     8</td>      <th>                     </th>     <td> </td>    \n",
       "</tr>\n",
       "<tr>\n",
       "  <th>Covariance Type:</th>      <td>nonrobust</td>    <th>                     </th>     <td> </td>    \n",
       "</tr>\n",
       "</table>\n",
       "<table class=\"simpletable\">\n",
       "<tr>\n",
       "               <td></td>                  <th>coef</th>     <th>std err</th>      <th>t</th>      <th>P>|t|</th>  <th>[0.025</th>    <th>0.975]</th>  \n",
       "</tr>\n",
       "<tr>\n",
       "  <th>const</th>                       <td> -337.4576</td> <td>  221.201</td> <td>   -1.526</td> <td> 0.127</td> <td> -771.060</td> <td>   96.145</td>\n",
       "</tr>\n",
       "<tr>\n",
       "  <th>tempo_emprego</th>               <td>  310.5677</td> <td>    7.066</td> <td>   43.952</td> <td> 0.000</td> <td>  296.717</td> <td>  324.419</td>\n",
       "</tr>\n",
       "<tr>\n",
       "  <th>sexo_M</th>                      <td> 2355.8406</td> <td>   94.116</td> <td>   25.031</td> <td> 0.000</td> <td> 2171.353</td> <td> 2540.328</td>\n",
       "</tr>\n",
       "<tr>\n",
       "  <th>tipo_renda_Empresário</th>       <td> 1052.2336</td> <td>  103.736</td> <td>   10.143</td> <td> 0.000</td> <td>  848.888</td> <td> 1255.579</td>\n",
       "</tr>\n",
       "<tr>\n",
       "  <th>educacao_Superior completo</th>  <td>  619.1884</td> <td>   93.063</td> <td>    6.653</td> <td> 0.000</td> <td>  436.764</td> <td>  801.613</td>\n",
       "</tr>\n",
       "<tr>\n",
       "  <th>idade</th>                       <td>   27.3622</td> <td>    5.081</td> <td>    5.385</td> <td> 0.000</td> <td>   17.403</td> <td>   37.322</td>\n",
       "</tr>\n",
       "<tr>\n",
       "  <th>posse_de_imovel_True</th>        <td>  407.1649</td> <td>   94.162</td> <td>    4.324</td> <td> 0.000</td> <td>  222.588</td> <td>  591.742</td>\n",
       "</tr>\n",
       "<tr>\n",
       "  <th>tipo_renda_Servidor público</th> <td>  370.8081</td> <td>  149.587</td> <td>    2.479</td> <td> 0.013</td> <td>   77.585</td> <td>  664.031</td>\n",
       "</tr>\n",
       "<tr>\n",
       "  <th>educacao_Pós graduação</th>      <td> 2694.7181</td> <td> 1151.605</td> <td>    2.340</td> <td> 0.019</td> <td>  437.321</td> <td> 4952.116</td>\n",
       "</tr>\n",
       "</table>\n",
       "<table class=\"simpletable\">\n",
       "<tr>\n",
       "  <th>Omnibus:</th>       <td>7303.880</td> <th>  Durbin-Watson:     </th>  <td>   1.986</td> \n",
       "</tr>\n",
       "<tr>\n",
       "  <th>Prob(Omnibus):</th>  <td> 0.000</td>  <th>  Jarque-Bera (JB):  </th> <td>275651.133</td>\n",
       "</tr>\n",
       "<tr>\n",
       "  <th>Skew:</th>           <td> 3.432</td>  <th>  Prob(JB):          </th>  <td>    0.00</td> \n",
       "</tr>\n",
       "<tr>\n",
       "  <th>Kurtosis:</th>       <td>28.700</td>  <th>  Cond. No.          </th>  <td>1.10e+03</td> \n",
       "</tr>\n",
       "</table><br/><br/>Notes:<br/>[1] Standard Errors assume that the covariance matrix of the errors is correctly specified.<br/>[2] The condition number is large, 1.1e+03. This might indicate that there are<br/>strong multicollinearity or other numerical problems."
      ],
      "text/plain": [
       "<class 'statsmodels.iolib.summary.Summary'>\n",
       "\"\"\"\n",
       "                            OLS Regression Results                            \n",
       "==============================================================================\n",
       "Dep. Variable:                      y   R-squared:                       0.230\n",
       "Model:                            OLS   Adj. R-squared:                  0.229\n",
       "Method:                 Least Squares   F-statistic:                     347.9\n",
       "Date:                Sun, 16 Oct 2022   Prob (F-statistic):               0.00\n",
       "Time:                        15:49:13   Log-Likelihood:                -91480.\n",
       "No. Observations:                9349   AIC:                         1.830e+05\n",
       "Df Residuals:                    9340   BIC:                         1.830e+05\n",
       "Df Model:                           8                                         \n",
       "Covariance Type:            nonrobust                                         \n",
       "===============================================================================================\n",
       "                                  coef    std err          t      P>|t|      [0.025      0.975]\n",
       "-----------------------------------------------------------------------------------------------\n",
       "const                        -337.4576    221.201     -1.526      0.127    -771.060      96.145\n",
       "tempo_emprego                 310.5677      7.066     43.952      0.000     296.717     324.419\n",
       "sexo_M                       2355.8406     94.116     25.031      0.000    2171.353    2540.328\n",
       "tipo_renda_Empresário        1052.2336    103.736     10.143      0.000     848.888    1255.579\n",
       "educacao_Superior completo    619.1884     93.063      6.653      0.000     436.764     801.613\n",
       "idade                          27.3622      5.081      5.385      0.000      17.403      37.322\n",
       "posse_de_imovel_True          407.1649     94.162      4.324      0.000     222.588     591.742\n",
       "tipo_renda_Servidor público   370.8081    149.587      2.479      0.013      77.585     664.031\n",
       "educacao_Pós graduação       2694.7181   1151.605      2.340      0.019     437.321    4952.116\n",
       "==============================================================================\n",
       "Omnibus:                     7303.880   Durbin-Watson:                   1.986\n",
       "Prob(Omnibus):                  0.000   Jarque-Bera (JB):           275651.133\n",
       "Skew:                           3.432   Prob(JB):                         0.00\n",
       "Kurtosis:                      28.700   Cond. No.                     1.10e+03\n",
       "==============================================================================\n",
       "\n",
       "Notes:\n",
       "[1] Standard Errors assume that the covariance matrix of the errors is correctly specified.\n",
       "[2] The condition number is large, 1.1e+03. This might indicate that there are\n",
       "strong multicollinearity or other numerical problems.\n",
       "\"\"\""
      ]
     },
     "execution_count": 13,
     "metadata": {},
     "output_type": "execute_result"
    }
   ],
   "source": [
    "reg_stepwise = sm.OLS(y_step, sm.add_constant(pd.DataFrame(X_step[result]))).fit()\n",
    "reg_stepwise.summary()"
   ]
  },
  {
   "cell_type": "code",
   "execution_count": 14,
   "metadata": {},
   "outputs": [
    {
     "data": {
      "text/plain": [
       "0.22955152454113692"
      ]
     },
     "execution_count": 14,
     "metadata": {},
     "output_type": "execute_result"
    }
   ],
   "source": [
    "reg_stepwise.rsquared"
   ]
  },
  {
   "cell_type": "markdown",
   "metadata": {},
   "source": [
    " - Usando o stepwise, o R² ficou pouco menor, porém a diferença é praticamente insignificante, e ficou muito mais enxuto, na quantidade de variáveis usado."
   ]
  },
  {
   "cell_type": "code",
   "execution_count": 15,
   "metadata": {},
   "outputs": [],
   "source": [
    "# 5."
   ]
  },
  {
   "cell_type": "markdown",
   "metadata": {},
   "source": [
    " - Neste caso em específico: o stepwise, por ter uma diferença muito pequena com relação ao R² e deixar muito mais enxuto a quantidade de variáveis usadas. Agora se for verificar somente o R², tanto o ridge como LASSO, ficaram melhores."
   ]
  },
  {
   "cell_type": "code",
   "execution_count": 16,
   "metadata": {},
   "outputs": [
    {
     "name": "stdout",
     "output_type": "stream",
     "text": [
      "ridge\n",
      "R² = 0.24872006799153867 Adj. R² = 0.2476738292003111 Alpha = 0 \n",
      "R² = 0.24872006799153867 Adj. R² = 0.2476738292003111 Alpha = 0.001 \n",
      "R² = 0.24872006799153867 Adj. R² = 0.2476738292003111 Alpha = 0.005 \n",
      "R² = 0.24872006799153867 Adj. R² = 0.2476738292003111 Alpha = 0.01 \n",
      "R² = 0.24872006799153867 Adj. R² = 0.2476738292003111 Alpha = 0.05 \n",
      "R² = 0.24872006799153867 Adj. R² = 0.2476738292003111 Alpha = 0.1 \n",
      "\n",
      "LASSO\n",
      "R² = 0.24872006799153867 Adj. R² = 0.2476738292003111 Alpha = 0 \n",
      "R² = 0.24772083148779178 Adj. R² = 0.24699585959394765 Alpha = 0.001 \n",
      "R² = 0.24579001145034052 Adj. R² = 0.24522481822479203 Alpha = 0.005 \n",
      "R² = 0.24223177295032539 Adj. R² = 0.24174508815453233 Alpha = 0.01 \n",
      "R² = 0.22942504880734804 Adj. R² = 0.22909517939331014 Alpha = 0.05 \n",
      "R² = 0.22942504880734804 Adj. R² = 0.22909517939331014 Alpha = 0.1 \n"
     ]
    }
   ],
   "source": [
    "# 6.\n",
    "\n",
    "modelo = patsy.dmatrices('''np.log(renda) ~ sexo\n",
    "                                  + posse_de_imovel\n",
    "                                  + tipo_renda\n",
    "                                  + educacao\n",
    "                                  + idade\n",
    "                                  + tempo_emprego\n",
    "                                  + np.power(tempo_emprego,2)\n",
    "                                  ''', X_train)\n",
    "\n",
    "\n",
    "alpha = [0, 0.001, 0.005, 0.01, 0.05, 0.1]\n",
    "\n",
    "print('ridge')\n",
    "for i in alpha:\n",
    "    md = smf.ols(modelo, data = X_train).fit_regularized(method = 'elastic_net' \n",
    "                         , refit = True\n",
    "                         , L1_wt = 0.00001\n",
    "                         , alpha = i)\n",
    "    print(f'R² = {md.rsquared} Adj. R² = {md.rsquared_adj} Alpha = {i} ')\n",
    "    \n",
    "print('')\n",
    "\n",
    "\n",
    "print('LASSO')\n",
    "for i in alpha:\n",
    "    md = smf.ols(modelo, data = X_train).fit_regularized(method = 'elastic_net' \n",
    "                         , refit = True\n",
    "                         , L1_wt = 1\n",
    "                         , alpha = i)\n",
    "    print(f'R² = {md.rsquared} Adj. R² = {md.rsquared_adj} Alpha = {i} ')"
   ]
  },
  {
   "cell_type": "markdown",
   "metadata": {},
   "source": [
    "1. Separe a base em treinamento e teste (25% para teste, 75% para treinamento).\n",
    "2. Rode uma regularização *ridge* com alpha = [0, 0.001, 0.005, 0.01, 0.05, 0.1] e avalie o $R^2$ na base de testes. Qual o melhor modelo?\n",
    "3. Faça o mesmo que no passo 2, com uma regressão *LASSO*. Qual método chega a um melhor resultado?\n",
    "4. Rode um modelo *stepwise*. Avalie o $R^2$ na vase de testes. Qual o melhor resultado?\n",
    "5. Compare os parâmetros e avalie eventuais diferenças. Qual modelo você acha o melhor de todos?\n",
    "6. Partindo dos modelos que você ajustou, tente melhorar o $R^2$ na base de testes. Use a criatividade, veja se consegue inserir alguma transformação ou combinação de variáveis.\n",
    "7. Ajuste uma árvore de regressão e veja se consegue um $R^2$ melhor com ela."
   ]
  },
  {
   "cell_type": "code",
   "execution_count": 17,
   "metadata": {},
   "outputs": [
    {
     "data": {
      "text/plain": [
       "<seaborn.matrix.ClusterGrid at 0x7f3988233760>"
      ]
     },
     "execution_count": 17,
     "metadata": {},
     "output_type": "execute_result"
    },
    {
     "data": {
      "image/png": "[encoded data removed]",
      "text/plain": [
       "<Figure size 720x720 with 4 Axes>"
      ]
     },
     "metadata": {
      "needs_background": "light"
     },
     "output_type": "display_data"
    }
   ],
   "source": [
    "# 7. Ajuste uma árvore de regressão e veja se consegue um $R^2$ melhor com ela.\n",
    "\n",
    "sns.clustermap(X_train.corr(), figsize = (10, 10), annot = True, center = 0, cmap = 'Greens')"
   ]
  },
  {
   "cell_type": "code",
   "execution_count": 18,
   "metadata": {},
   "outputs": [
    {
     "data": {
      "text/plain": [
       "DecisionTreeRegressor(max_depth=4)"
      ]
     },
     "execution_count": 18,
     "metadata": {},
     "output_type": "execute_result"
    }
   ],
   "source": [
    "regr = DecisionTreeRegressor(max_depth=4)\n",
    "\n",
    "regr.fit(X_step, y_step)"
   ]
  },
  {
   "cell_type": "code",
   "execution_count": 19,
   "metadata": {},
   "outputs": [
    {
     "data": {
      "image/png": "[encoded data removed]",
      "text/plain": [
       "<Figure size 720x720 with 1 Axes>"
      ]
     },
     "metadata": {
      "needs_background": "light"
     },
     "output_type": "display_data"
    }
   ],
   "source": [
    "plt.rc('figure', figsize=(10, 10))\n",
    "\n",
    "tp = tree.plot_tree(regr, \n",
    "                    feature_names=X_step.columns,  \n",
    "                    filled=True) "
   ]
  },
  {
   "cell_type": "code",
   "execution_count": 20,
   "metadata": {},
   "outputs": [
    {
     "name": "stdout",
     "output_type": "stream",
     "text": [
      "O R-quadrado da árvore de treino com profundidade = 4 é: 0,26\n"
     ]
    }
   ],
   "source": [
    "rquad = regr.score(X_step, y_step)\n",
    "\n",
    "template = 'O R-quadrado da árvore de treino com profundidade = {0} é: {1:.2f}'\n",
    "\n",
    "print(template.format(regr.get_depth(),rquad).replace(\".\",\",\"))"
   ]
  }
 ],
 "metadata": {
  "kernelspec": {
   "display_name": "Python 3 (ipykernel)",
   "language": "python",
   "name": "python3"
  },
  "language_info": {
   "codemirror_mode": {
    "name": "ipython",
    "version": 3
   },
   "file_extension": ".py",
   "mimetype": "text/x-python",
   "name": "python",
   "nbconvert_exporter": "python",
   "pygments_lexer": "ipython3",
   "version": "3.10.7"
  }
 },
 "nbformat": 4,
 "nbformat_minor": 4
}
